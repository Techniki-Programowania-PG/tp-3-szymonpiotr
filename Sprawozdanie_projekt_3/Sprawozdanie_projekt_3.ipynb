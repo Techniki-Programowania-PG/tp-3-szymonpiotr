{
 "cells": [
  {
   "cell_type": "markdown",
   "id": "cb2a506e",
   "metadata": {},
   "source": [
    "# TECHNIKI PROGRAMOWANIA - projekt 3\n",
    "### Piotr Wilk 203469\n",
    "### Szymon Zawiślak 203531\n",
    "\n",
    "Wykorzystane biblioteki:\n",
    "- pybind11/pybind11.h - C++\n",
    "- matplot/matplot.h - C++\n",
    "- cmath - C++\n",
    "- pybind11/stl.h - C++\n",
    "- pybind11/complex.h - C++\n",
    "- string - C++\n",
    "- complex - C++\n",
    "- vector - C++\n",
    "- numpy - Python"
   ]
  },
  {
   "cell_type": "markdown",
   "id": "415fc688",
   "metadata": {},
   "source": [
    "# Generowanie sygnału o podanej częstotliwości oraz wyświetlanie ich.\n",
    "Przykłady obrazujące generowanie syngałów sinus, cosinus, piła, prostokątny oraz wyświetlanie ich na wykresach 1D oraz 2D."
   ]
  },
  {
   "cell_type": "markdown",
   "id": "41bbab46",
   "metadata": {},
   "source": []
  },
  {
   "cell_type": "markdown",
   "id": "3cd9f3f9",
   "metadata": {},
   "source": [
    "# Filtracja 1D\n",
    "Przykład obrazujący zaimplementowaną funkcjonalnośc filtorwania wykresów"
   ]
  },
  {
   "cell_type": "code",
   "execution_count": null,
   "id": "2d800752",
   "metadata": {},
   "outputs": [],
   "source": [
    "\n",
    "import scikit_build_example as test\n",
    "import numpy as np\n",
    "\n",
    "t = np.linspace(0, 16*np.pi, 1000)\n",
    "sygnal = np.sin(t) + 0.1*np.random.randn(1000)\n",
    "\n",
    "test.SygnalD1(sygnal, \"Probka\", \"Amplituda\", \"Sinus zaszumiony\")\n",
    "\n",
    "Filtr=test.FiltracjaD1(sygnal)\n",
    "\n",
    "test.SygnalD1(Filtr, \"Probka\", \"Amplituda\", \"Sinus odszumiony\")"
   ]
  },
  {
   "cell_type": "markdown",
   "id": "4a3ecab4",
   "metadata": {},
   "source": [
    "![Sinus zaszumiony](Sinus_szum.png)\n",
    "![Sinus odszumiony](Sinus_odszum.png)"
   ]
  }
 ],
 "metadata": {
  "kernelspec": {
   "display_name": "Python 3",
   "language": "python",
   "name": "python3"
  },
  "language_info": {
   "codemirror_mode": {
    "name": "ipython",
    "version": 3
   },
   "file_extension": ".py",
   "mimetype": "text/x-python",
   "name": "python",
   "nbconvert_exporter": "python",
   "pygments_lexer": "ipython3",
   "version": "3.13.3"
  }
 },
 "nbformat": 4,
 "nbformat_minor": 5
}
