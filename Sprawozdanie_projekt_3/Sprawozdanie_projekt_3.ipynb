{
 "cells": [
  {
   "cell_type": "markdown",
   "id": "cb2a506e",
   "metadata": {},
   "source": [
    "# TECHNIKI PROGRAMOWANIA - projekt 3\n",
    "### Piotr Wilk 203469\n",
    "### Szymon Zawiślak 203531\n",
    "\n",
    "Wykorzystane biblioteki:\n",
    "- pybind11/pybind11.h - C++\n",
    "- matplot/matplot.h - C++\n",
    "- cmath - C++\n",
    "- pybind11/stl.h - C++\n",
    "- pybind11/complex.h - C++\n",
    "- string - C++\n",
    "- complex - C++\n",
    "- vector - C++\n",
    "- numpy - Python"
   ]
  },
  {
   "cell_type": "markdown",
   "id": "415fc688",
   "metadata": {},
   "source": [
    "# Generowanie sygnału o podanej częstotliwości oraz wyświetlanie ich.\n",
    "Przykłady obrazujące generowanie syngałów sinus, cosinus, piła, prostokątny oraz wyświetlanie ich na wykresach 1D oraz 2D."
   ]
  },
  {
   "cell_type": "markdown",
   "id": "cd5ed606",
   "metadata": {},
   "source": [
    "# Funckja sinus \n",
    "\n",
    "O częstotliwości 1Hz na wykresie 1D i 2D oraz o czestotliwości 10Hz na wykresie 1D.\n"
   ]
  },
  {
   "cell_type": "code",
   "execution_count": 11,
   "id": "0da799a5",
   "metadata": {},
   "outputs": [],
   "source": [
    "import scikit_build_example as funkcja\n",
    "\n",
    "#(Początek, koniec, ilość próbek, częstotliwość)\n",
    "sygnal=funkcja.sinus(0,8,1000,1) \n",
    "\n",
    "#(Wartości y, nazwa OSX, nazwa OSY. nazwa wykresu, nazwa pliku )\n",
    "funkcja.SygnalD1(sygnal[1],\"Próbka\",\"Amplituda\",\"Sinus o f=1Hz\",\"Sinus_f=1_1D.png\")\n",
    "\n",
    "#(Wartości x, wartości y, nazwa OSX, nazwa OSY. nazwa wykresu, nazwa pliku )\n",
    "funkcja.SygnalD2(sygnal[0],sygnal[1],\"Czas\",\"Amplituda\",\"Sinus o f=1Hz\",\"Sinus_f=1_2D.png\")\n",
    "\n",
    "sygnal=funkcja.sinus(0,8,1000,10) \n",
    "\n",
    "funkcja.SygnalD1(sygnal[1],\"Próbka\",\"Amplituda\",\"Sinus o f=10Hz\",\"Sinus_f=10_1D.png\")"
   ]
  },
  {
   "cell_type": "markdown",
   "id": "47177adf",
   "metadata": {},
   "source": [
    "![Sinus f=1Hz 1D](Sinus_f=1_1D.png)\n",
    "![Sinus f=1Hz 2D](Sinus_f=1_2D.png)\n",
    "![Sinus f=10Hz 2D](Sinus_f=10_1D.png)"
   ]
  },
  {
   "cell_type": "markdown",
   "id": "4ac5efb7",
   "metadata": {},
   "source": [
    "# Funckja cosinus \n",
    "\n",
    "O częstotliwości 1Hz na wykresie 1D i 2D oraz o czestotliwości 5Hz na wykresie 1D."
   ]
  },
  {
   "cell_type": "code",
   "execution_count": 13,
   "id": "4218a71c",
   "metadata": {},
   "outputs": [],
   "source": [
    "import scikit_build_example as funkcja\n",
    "\n",
    "#(Początek, koniec, ilość próbek, częstotliwość)\n",
    "sygnal=funkcja.cosinus(0,8,1000,1) \n",
    "\n",
    "#(Wartości y, nazwa OSX, nazwa OSY. nazwa wykresu, nazwa pliku )\n",
    "funkcja.SygnalD1(sygnal[1],\"Próbka\",\"Amplituda\",\"Cosinus o f=1Hz\",\"Cosinus_f=1_1D.png\")\n",
    "\n",
    "#(Wartości x, wartości y, nazwa OSX, nazwa OSY. nazwa wykresu, nazwa pliku )\n",
    "funkcja.SygnalD2(sygnal[0],sygnal[1],\"Czas\",\"Amplituda\",\"Cosinus o f=1Hz\",\"Cosinus_f=1_2D.png\")\n",
    "\n",
    "sygnal=funkcja.cosinus(0,8,1000,5) \n",
    "\n",
    "funkcja.SygnalD1(sygnal[1],\"Próbka\",\"Amplituda\",\"Cosinus o f=5Hz\",\"Cosinus_f=5_1D.png\")"
   ]
  },
  {
   "cell_type": "markdown",
   "id": "5a255270",
   "metadata": {},
   "source": [
    "![Cosinus f=1Hz 1D](Cosinus_f=1_1D.png)\n",
    "![Cosinus f=1Hz 2D](Cosinus_f=1_2D.png)\n",
    "![Cosinus f=5Hz 1D](Cosinus_f=5_1D.png)"
   ]
  },
  {
   "cell_type": "markdown",
   "id": "93c81d4e",
   "metadata": {},
   "source": [
    "# Funckja piłokształtny\n",
    "\n",
    "O częstotliwości 1Hz na wykresie 1D i 2D oraz o czestotliwości 7Hz na wykresie 1D."
   ]
  },
  {
   "cell_type": "code",
   "execution_count": 2,
   "id": "adbb1bd3",
   "metadata": {},
   "outputs": [],
   "source": [
    "import scikit_build_example as funkcja\n",
    "\n",
    "#(Początek, koniec, ilość próbek, częstotliwość)\n",
    "sygnal=funkcja.pila(0,8,1000,1) \n",
    "\n",
    "#(Wartości y, nazwa OSX, nazwa OSY. nazwa wykresu, nazwa pliku )\n",
    "funkcja.SygnalD1(sygnal[1],\"Próbka\",\"Amplituda\",\"Piłokształtny o f=1Hz\",\"Pila_f=1_1D.png\")\n",
    "\n",
    "#(Wartości x, wartości y, nazwa OSX, nazwa OSY. nazwa wykresu, nazwa pliku )\n",
    "funkcja.SygnalD2(sygnal[0],sygnal[1],\"Czas\",\"Amplituda\",\"Piłokształtny o f=1Hz\",\"Pila_f=1_2D.png\")\n",
    "\n",
    "sygnal=funkcja.pila(0,8,1000,7) \n",
    "\n",
    "funkcja.SygnalD1(sygnal[1],\"Próbka\",\"Amplituda\",\"Piłokształtny o f=7Hz\",\"Pila_f=7_1D.png\")"
   ]
  },
  {
   "cell_type": "markdown",
   "id": "41ada42f",
   "metadata": {},
   "source": [
    "![Piła f=1Hz 1D](Pila_f=1_1D.png)\n",
    "![Piła f=1Hz 2D](Pila_f=1_2D.png)\n",
    "![Piła f=7Hz 1D](Pila_f=7_1D.png)"
   ]
  },
  {
   "cell_type": "markdown",
   "id": "4cd304aa",
   "metadata": {},
   "source": [
    "# Funckja prostokątna\n",
    "\n",
    "O częstotliwości 1Hz na wykresie 1D i 2D oraz o czestotliwości 3Hz na wykresie 1D."
   ]
  },
  {
   "cell_type": "code",
   "execution_count": 16,
   "id": "6e337482",
   "metadata": {},
   "outputs": [],
   "source": [
    "import scikit_build_example as funkcja\n",
    "\n",
    "#(Początek, koniec, ilość próbek, częstotliwość)\n",
    "sygnal=funkcja.prostokatny(0,8,1000,1) \n",
    "\n",
    "#(Wartości y, nazwa OSX, nazwa OSY. nazwa wykresu, nazwa pliku )\n",
    "funkcja.SygnalD1(sygnal[1],\"Próbka\",\"Amplituda\",\"Prostokątna o f=1Hz\",\"Prost_f=1_1D.png\")\n",
    "\n",
    "#(Wartości x, wartości y, nazwa OSX, nazwa OSY. nazwa wykresu, nazwa pliku )\n",
    "funkcja.SygnalD2(sygnal[0],sygnal[1],\"Czas\",\"Amplituda\",\"Piła o f=1Hz\",\"Prost_f=1_2D.png\")\n",
    "\n",
    "sygnal=funkcja.prostokatny(0,8,1000,3) \n",
    "\n",
    "funkcja.SygnalD1(sygnal[1],\"Próbka\",\"Amplituda\",\"Prostokątna o f=3Hz\",\"Prost_f=3_1D.png\")"
   ]
  },
  {
   "cell_type": "markdown",
   "id": "aeaa2101",
   "metadata": {},
   "source": [
    "![Piła f=1Hz 1D](Prost_f=1_1D.png)\n",
    "![Piła f=1Hz 2D](Prost_f=1_2D.png)\n",
    "![Piła f=3Hz 1D](Prost_f=3_1D.png)"
   ]
  },
  {
   "cell_type": "markdown",
   "id": "fc26fb03",
   "metadata": {},
   "source": [
    "# DFT oraz IDFT\n",
    "Przykład obrazujący zaimplementowaną funkcjonalność DFT oraz IDFT"
   ]
  },
  {
   "cell_type": "code",
   "execution_count": 1,
   "id": "5f93e0b6",
   "metadata": {},
   "outputs": [],
   "source": [
    "import scikit_build_example as funkcja\n",
    "\n",
    "#(Początek, koniec, ilość próbek, częstotliwość)\n",
    "sygnal=funkcja.sinus(0,8,1000,15) \n",
    "\n",
    "#Wyświetlenie funkcji sinus\n",
    "funkcja.SygnalD1(sygnal[1],\"Próbka\",\"Amplituda\",\"Sinus o f=15Hz\",\"Sinus_f=15_1D.png\")\n",
    "\n",
    "#DFT\n",
    "wynik=funkcja.DFT(sygnal[1])\n",
    "\n",
    "#Wykres DFT (wynik DFT, czestoliowsc próbkowania: (ilosc próbek)/(Koniec - start), nazwa pliku wykresu)\n",
    "funkcja.WidmoDFT(wynik,125, \"Dft_sinus_f=15.png\")\n",
    "\n",
    "#Powrót do orginalnej funkcji (IDFT)\n",
    "orginal=funkcja.IDFT(wynik)\n",
    "\n",
    "#Wyświetlenie orginału po powrocie\n",
    "funkcja.SygnalD1(orginal,\"Próbka\",\"Amplituda\",\"Orginalna funkcja\",\"Orginal_1D.png\")"
   ]
  },
  {
   "cell_type": "markdown",
   "id": "f2abfef4",
   "metadata": {},
   "source": [
    "![Sinus f=15Hz 1D](Sinus_f=15_1D.png)\n",
    "![Sinus WidmoDFT f=15Hz](Dft_sinus_f=15.png)\n",
    "![Orgnialna funkcja 1D](Orginal_1D.png)"
   ]
  },
  {
   "cell_type": "markdown",
   "id": "3cd9f3f9",
   "metadata": {},
   "source": [
    "# Filtracja 1D\n",
    "Przykład obrazujący zaimplementowaną funkcjonalność filtrowania wykresów"
   ]
  },
  {
   "cell_type": "code",
   "execution_count": 9,
   "id": "2d800752",
   "metadata": {},
   "outputs": [],
   "source": [
    "import scikit_build_example as funkcja\n",
    "import numpy as np\n",
    "\n",
    "t = np.linspace(0, 16*np.pi, 1000)\n",
    "sygnal = np.sin(t) + 0.1*np.random.randn(1000)\n",
    "\n",
    "funkcja.SygnalD1(sygnal, \"Probka\", \"Amplituda\", \"Sinus zaszumiony\",\"Sinus_zaszumiony_1D.png\")\n",
    "\n",
    "Filtr=funkcja.FiltracjaD1(sygnal)\n",
    "\n",
    "funkcja.SygnalD1(Filtr, \"Probka\", \"Amplituda\", \"Sinus odszumiony\",\"Sinus_odszumiony_1D.png\")"
   ]
  },
  {
   "cell_type": "markdown",
   "id": "4a3ecab4",
   "metadata": {},
   "source": [
    "![Sinus zaszumiony](Sinus_zaszumiony_1D.png)\n",
    "![Sinus odszumiony](Sinus_odszumiony_1D.png)"
   ]
  },
  {
   "cell_type": "markdown",
   "id": "8a80c0dd",
   "metadata": {},
   "source": [
    "# Autokorelacja\n",
    "Przykład obrazujący zaimplementowaną funkcjonalność autokorelacji"
   ]
  },
  {
   "cell_type": "code",
   "execution_count": null,
   "id": "97940365",
   "metadata": {},
   "outputs": [],
   "source": [
    "import scikit_build_example as funkcja\n",
    "\n",
    "#(Początek, koniec, ilość próbek, częstotliwość)\n",
    "sygnal=funkcja.sinus(0,8,1000,1) \n",
    "\n",
    "#(Wartości x, wartości y, nazwa OSX, nazwa OSY. nazwa wykresu, nazwa pliku )\n",
    "funkcja.SygnalD2(sygnal[0],sygnal[1],\"Czas\",\"Amplituda\",\"Sinus o f=1Hz\",\"Sinusauto_f=1_2D.png\")\n",
    "\n",
    "#Autokorelacja syngału sinus (wartości y, cześtolitowść próbkowania (ilość próbek)/(koniec-start))\n",
    "wynik=funkcja.Autokorelcja_sygnalu(sygnal[1],125)\n",
    "\n",
    "#Wyświetlenie autokorelacji na wykresie 2D\n",
    "funkcja.SygnalD2(wynik[0],wynik[1],\"Opóźnienie\",\"Autokorelacja\",\"Autokorelacja sygnału\",\"auto_2D.png\")"
   ]
  },
  {
   "cell_type": "markdown",
   "id": "ceed8eba",
   "metadata": {},
   "source": [
    "![Sinus f=1](Sinusauto_f=1_2D.png)\n",
    "![Autokorelacja 2D](auto_2D.png)"
   ]
  }
 ],
 "metadata": {
  "kernelspec": {
   "display_name": "Python 3",
   "language": "python",
   "name": "python3"
  },
  "language_info": {
   "codemirror_mode": {
    "name": "ipython",
    "version": 3
   },
   "file_extension": ".py",
   "mimetype": "text/x-python",
   "name": "python",
   "nbconvert_exporter": "python",
   "pygments_lexer": "ipython3",
   "version": "3.13.3"
  }
 },
 "nbformat": 4,
 "nbformat_minor": 5
}
